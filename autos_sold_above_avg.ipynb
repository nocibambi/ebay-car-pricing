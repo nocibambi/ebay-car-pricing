{
 "cells": [
  {
   "cell_type": "markdown",
   "metadata": {},
   "source": [
    "# Import libraries"
   ]
  },
  {
   "cell_type": "code",
   "execution_count": 1,
   "metadata": {},
   "outputs": [],
   "source": [
    "import pandas as pd\n",
    "import numpy as np\n",
    "import time\n",
    "from datetime import date"
   ]
  },
  {
   "cell_type": "markdown",
   "metadata": {},
   "source": [
    "## Preprocessing"
   ]
  },
  {
   "cell_type": "code",
   "execution_count": 2,
   "metadata": {},
   "outputs": [],
   "source": [
    "from sklearn.preprocessing import Normalizer, MinMaxScaler, OneHotEncoder, StandardScaler\n",
    "from sklearn.pipeline import Pipeline, make_pipeline\n",
    "from imblearn.pipeline import Pipeline as imbPipeline"
   ]
  },
  {
   "cell_type": "markdown",
   "metadata": {},
   "source": [
    "## Models"
   ]
  },
  {
   "cell_type": "code",
   "execution_count": 3,
   "metadata": {},
   "outputs": [],
   "source": [
    "from sklearn.linear_model import LogisticRegression\n",
    "from sklearn.tree import DecisionTreeClassifier, ExtraTreeClassifier\n",
    "from sklearn.neighbors import KNeighborsClassifier, LocalOutlierFactor\n",
    "from sklearn.ensemble import RandomForestClassifier, AdaBoostClassifier, IsolationForest, \\\n",
    "    GradientBoostingClassifier\n",
    "from sklearn.svm import SVC, LinearSVC\n",
    "from sklearn.naive_bayes import GaussianNB\n",
    "from sklearn.neural_network import MLPClassifier\n",
    "from sklearn.gaussian_process import GaussianProcessClassifier\n",
    "from sklearn.discriminant_analysis import QuadraticDiscriminantAnalysis, LinearDiscriminantAnalysis"
   ]
  },
  {
   "cell_type": "markdown",
   "metadata": {},
   "source": [
    "## Cross validation"
   ]
  },
  {
   "cell_type": "code",
   "execution_count": 4,
   "metadata": {},
   "outputs": [],
   "source": [
    "from sklearn.model_selection import train_test_split, KFold, cross_val_score, \\\n",
    "    cross_validate, cross_val_predict, GridSearchCV, ParameterGrid, RepeatedStratifiedKFold"
   ]
  },
  {
   "cell_type": "markdown",
   "metadata": {},
   "source": [
    "## Feature selection"
   ]
  },
  {
   "cell_type": "code",
   "execution_count": 5,
   "metadata": {},
   "outputs": [],
   "source": [
    "from sklearn.decomposition import PCA\n",
    "from sklearn.feature_selection import SelectKBest, chi2, RFE"
   ]
  },
  {
   "cell_type": "markdown",
   "metadata": {},
   "source": [
    "## Performance measures"
   ]
  },
  {
   "cell_type": "code",
   "execution_count": 6,
   "metadata": {},
   "outputs": [],
   "source": [
    "from sklearn.metrics import accuracy_score, auc, roc_curve, roc_auc_score as auc_score, confusion_matrix, \\\n",
    "    classification_report"
   ]
  },
  {
   "cell_type": "markdown",
   "metadata": {},
   "source": [
    "# Loading data"
   ]
  },
  {
   "cell_type": "code",
   "execution_count": 7,
   "metadata": {},
   "outputs": [],
   "source": [
    "train = pd.read_csv(\"autos_training_final.csv\", sep=\"|\")\n",
    "samp = train.sample(frac=0.25).copy() # For performance reasons we might want to try out the code only on a sample\n",
    "\n",
    "test = pd.read_csv(\"autos_testing_final.csv\", sep=\"|\")\n",
    "sample_submission = pd.read_csv(\"autos_submission.csv\", sep=\",\")"
   ]
  },
  {
   "cell_type": "markdown",
   "metadata": {},
   "source": [
    "# Defining column groups"
   ]
  },
  {
   "cell_type": "code",
   "execution_count": 8,
   "metadata": {},
   "outputs": [],
   "source": [
    "# Special columns\n",
    "spec_cols = ['id', 'label', 'dateCrawled']\n",
    "\n",
    "# Redundant columns\n",
    "# These columns have either the same value across the dataset or contain only very little variation\n",
    "redundant_cols = ['seller', 'offerType', 'nrOfPictures'] \n",
    "\n",
    "# relevant columns with DateTime type\n",
    "date_cols = ['dateCreated', 'lastSeen']\n",
    "\n",
    "# Numerical columns\n",
    "num_cols = train.loc[:,~train.columns.isin(spec_cols + redundant_cols + date_cols)] \\\n",
    "                .select_dtypes(include=[int, float]) \\\n",
    "                .columns\n",
    "\n",
    "# Categorical columns\n",
    "cat_cols = train.select_dtypes(include=object).columns"
   ]
  },
  {
   "cell_type": "markdown",
   "metadata": {},
   "source": [
    "# Attribute specific missing value codes"
   ]
  },
  {
   "cell_type": "code",
   "execution_count": 9,
   "metadata": {},
   "outputs": [],
   "source": [
    "# The following columns have their own 'missing values' codes\n",
    "col_nanval = [['yearOfRegistration', 1000],\n",
    "              ['powerPS', 0],\n",
    "              ['monthOfRegistration', 0]]"
   ]
  },
  {
   "cell_type": "markdown",
   "metadata": {},
   "source": [
    "# Data cleaning functions"
   ]
  },
  {
   "cell_type": "markdown",
   "metadata": {},
   "source": [
    "## Handling native missing data codes"
   ]
  },
  {
   "cell_type": "code",
   "execution_count": 10,
   "metadata": {},
   "outputs": [],
   "source": [
    "def rep_nanvals(data, collist, inplace=False):\n",
    "    \"\"\"Replaces missing value codes with a random value from among the rest of values in the column.\n",
    "    Takes the data and a list of column-missing code pairs.\n",
    "    \"\"\"\n",
    "    start = time.time()\n",
    "    print(\"\\nReplacing data-specific missing codes...\")  \n",
    "    \n",
    "    for col_nan in collist:\n",
    "        col = data.loc[:, col_nan[0]]\n",
    "        nanval = col_nan[1]\n",
    "        col.replace(to_replace=nanval,\n",
    "                    value=np.random.choice(col[col != nanval]),\n",
    "                    inplace=inplace)\n",
    "    \n",
    "    end = time.time()\n",
    "    print(\"Duration:{}\".format(end - start))  \n",
    "    \n",
    "# Possible development: use sklearn's Impute() instead, predict missing values based on already existing data"
   ]
  },
  {
   "cell_type": "markdown",
   "metadata": {},
   "source": [
    "## Missing values"
   ]
  },
  {
   "cell_type": "code",
   "execution_count": 11,
   "metadata": {},
   "outputs": [],
   "source": [
    "def rep_nas(data, inplace=False):\n",
    "    \"\"\"Replaces NaN values with a random value from among the rest of values in the column.\n",
    "    \"\"\"\n",
    "    start = time.time()\n",
    "    print(\"\\nReplacing NaN values...\")    \n",
    "    \n",
    "    for col in data.isna().mean()[data.isna().any() == True].index:\n",
    "        dcol = data.loc[:,col]\n",
    "        dcol.fillna(value=np.random.choice(dcol[dcol.isna() == False]),\n",
    "                               inplace=inplace)\n",
    "\n",
    "    end = time.time()\n",
    "    print(\"Duration:{}\".format(end - start))        \n",
    "\n",
    "# Possible development: use sklearn's Impute() instead, predict missing values based on already existing data"
   ]
  },
  {
   "cell_type": "markdown",
   "metadata": {},
   "source": [
    "## Merging the registration date columns into a single registration date"
   ]
  },
  {
   "cell_type": "code",
   "execution_count": 12,
   "metadata": {},
   "outputs": [],
   "source": [
    "def yr_mth(data, yrcol, mtcol, inplace=False):\n",
    "    \"\"\"Takes the data, and the year and month columns and merge them into a single \"yr_mth\" column in the\n",
    "    YYYY.MM format.\n",
    "    \"\"\"\n",
    "    data.loc[:,'yr_mth'] = data.loc[:,[yrcol, mtcol]] \\\n",
    "        .apply(lambda x: str(x[0])[:4] + \".\" + str(x[1])[:-2], axis=1)\n",
    "    data.drop(columns=[yrcol, mtcol], inplace=inplace)\n",
    "    \n",
    "    #print(data.yr_mth)"
   ]
  },
  {
   "cell_type": "markdown",
   "metadata": {},
   "source": [
    "## Splitting the datatype columns into separate date/time columns"
   ]
  },
  {
   "cell_type": "code",
   "execution_count": 13,
   "metadata": {},
   "outputs": [],
   "source": [
    "def split_datetype(data, datcols, inplace=False):\n",
    "    \"\"\"Splitting datetype columns into separated year, month and day columns\n",
    "    Takes the dataframe and the list of column names.\n",
    "    Returns the dataframes with the new and without the old columns.\n",
    "    \"\"\"\n",
    "    start = time.time()\n",
    "    print(\"\\nSplitting date columns...\")\n",
    "\n",
    "    for col in datcols:\n",
    "        datcol = data.loc[:,col]\n",
    "        data.loc[:,col + \"_yr\"] = datcol.apply(lambda x: int(str(x)[0:4]))\n",
    "        data.loc[:,col + \"_mt\"] = datcol.apply(lambda x: int(str(x)[5:7]))\n",
    "        data.loc[:,col + \"_dy\"] = datcol.apply(lambda x: int(str(x)[8:10]))\n",
    "        #data.loc[:,col + \"_hr\"] = datcol.apply(lambda x: int(str(x)[11:13]))\n",
    "\n",
    "    def calc_date(row):\n",
    "        duration = date(row.lastSeen_yr,\n",
    "                        row.lastSeen_mt,\n",
    "                        row.lastSeen_dy) - date(row.dateCreated_yr,\n",
    "                                                row.dateCreated_mt,\n",
    "                                                row.dateCreated_dy)\n",
    "        return duration.days\n",
    "\n",
    "    dur = data.apply(lambda x: calc_date(x), axis=1)\n",
    "    data.loc[:,'visiblePeriod'] = dur\n",
    "    data.drop(columns=datcols, inplace=inplace)\n",
    "\n",
    "    end = time.time()\n",
    "    print(\"Duration:{}\".format(end - start))"
   ]
  },
  {
   "cell_type": "markdown",
   "metadata": {},
   "source": [
    "## Transforming categorical values into dummies"
   ]
  },
  {
   "cell_type": "code",
   "execution_count": 14,
   "metadata": {},
   "outputs": [],
   "source": [
    "def cat_dummies(data):\n",
    "    \"\"\"Transforms all categorical attributes into dummy attributes.\n",
    "    Takes a DataFrame.\n",
    "    \n",
    "    Returns the original DataFrame's without its categorical ('object' datatype) attributes.\n",
    "    \"\"\"\n",
    "    start = time.time()\n",
    "    print(\"\\nCreating dummy variables...\")\n",
    "    dum_cols = data.loc[:,cat_cols] \\\n",
    "                   .columns.difference(spec_cols\n",
    "                                       + redundant_cols\n",
    "                                       + date_cols).drop('name')\n",
    "\n",
    "    #print(\"data.columns:{}\".format(data.columns))\n",
    "    #print(\"dum_cols:{}\".format(dum_cols))\n",
    "    #print(\"Columns transformed to dummies: {}\".format(dum_cols))\n",
    "\n",
    "    dummies = pd.get_dummies(data.loc[:,dum_cols])\n",
    "    #print(\"New dummy columns: {}\".format(dummies.columns))\n",
    "    w_dummies = pd.concat([data, dummies], axis=1)\n",
    "    w_dummies = w_dummies.select_dtypes(exclude=[object]) \\\n",
    "                         .dropna(axis=1)\n",
    "\n",
    "    end = time.time()\n",
    "    print(\"{} seconds\".format(end - start))\n",
    "        \n",
    "    return w_dummies"
   ]
  },
  {
   "cell_type": "markdown",
   "metadata": {},
   "source": [
    "## Handling outliers"
   ]
  },
  {
   "cell_type": "code",
   "execution_count": 15,
   "metadata": {},
   "outputs": [],
   "source": [
    "def drop_outliers(data):\n",
    "    \"\"\"Uses IsolationForest to find outliers in the data and then drops them.\n",
    "    Takes a DataFrame.\n",
    "    \n",
    "    Returns the DataFrame without the outliers.\n",
    "    \"\"\"\n",
    "    start = time.time()\n",
    "    print(\"\\nHandling outliers...\")\n",
    "\n",
    "    clf = IsolationForest(max_samples='auto',\n",
    "                          random_state=2425,\n",
    "                          contamination=0.01,\n",
    "                          verbose=False,\n",
    "                          n_jobs=-1)\n",
    "\n",
    "    clf.fit(data)\n",
    "    isof = clf.predict(data)\n",
    "\n",
    "    data.loc[:,'Outlier'] = pd.Series(isof)\n",
    "    outl_rows = data[data.Outlier == -1].index\n",
    "\n",
    "    data.drop(outl_rows, inplace=True)\n",
    "    data.drop(columns='Outlier', inplace=True)\n",
    "\n",
    "    end = time.time()\n",
    "    print(\"{} seconds\".format(end-start))"
   ]
  },
  {
   "cell_type": "markdown",
   "metadata": {},
   "source": [
    "## Handling correlated attributes"
   ]
  },
  {
   "cell_type": "code",
   "execution_count": 16,
   "metadata": {},
   "outputs": [],
   "source": [
    "def drop_cors(data):\n",
    "    \"\"\"Drops correlated attributes from a DataFrame.\n",
    "    \n",
    "    Takes a DataFrame.\n",
    "    \n",
    "    Returns the DataFrame without the correlated attributes.\n",
    "    \"\"\"\n",
    "    start = time.time()\n",
    "    print(\"\\nChecking for attribute correlations...\")\n",
    "\n",
    "    # Solution from Chris Albon\n",
    "    corrs = data.corr().abs()\n",
    "    upper = corrs.where(np.triu(np.ones(corrs.shape), k=1).astype(np.bool))\n",
    "\n",
    "    to_drop = [column for column in upper.columns if any(upper[column] > 0.8)]\n",
    "    print(\"Correlated attributes to drop:{}\".format(to_drop))\n",
    "\n",
    "    data.drop(data.loc[:,to_drop], axis=1, inplace=True)\n",
    "\n",
    "    end = time.time()\n",
    "    print(\"{} seconds\".format(end-start))\n",
    "    \n",
    "    return to_drop"
   ]
  },
  {
   "cell_type": "markdown",
   "metadata": {},
   "source": [
    "## Automatic Feature Selection"
   ]
  },
  {
   "cell_type": "code",
   "execution_count": 17,
   "metadata": {},
   "outputs": [],
   "source": [
    "def fsel(X, y, test_data, method='univarv', model=RandomForestClassifier, k=5):\n",
    "    \"\"\"Selects features from from the dataset based on various methods.\n",
    "    Parameters\n",
    "        X: DataFrame\n",
    "            The predictor attributes\n",
    "        \n",
    "        y: DataFrame or Series\n",
    "            The label attribute to predict\n",
    "        \n",
    "        test_data: DataFrame\n",
    "            The test data\n",
    "        \n",
    "        method='univar'\n",
    "            The method to identify the selected features:\n",
    "                'univar': Univariate feature selection based on chi-squared test.\n",
    "                'rfe': Recursive Feature Elimination\n",
    "                'pca': Principal Component Analysis            \n",
    "                'fimp': Feature importance\n",
    "        \n",
    "        model=RandomForestClassifier\n",
    "            Predictor model (applicable for 'rfe' and 'fimp')\n",
    "        \n",
    "        k=5\n",
    "            Depending on the chosen method:\n",
    "                'univar', 'rfe', 'fimp': The number of best features selected.\n",
    "                'pca': The number of components to create from the attributes.\n",
    "    \n",
    "    Returns\n",
    "        The transformed training (X) and test datasets (with the best attributes or with the new components).\n",
    "    \"\"\"\n",
    "    start = time.time()\n",
    "    print(\"\\nAutomatic feature selection...\")\n",
    "    \n",
    "    if method == 'univar':\n",
    "        fsel_mod = SelectKBest(score_func=chi2, k=k)\n",
    "        fsel_test = fsel_mod.fit(X, y)\n",
    "\n",
    "        #print(\"Feature selection test scores:{}\".format(fsel_test.scores_))\n",
    "        features = fsel_test.transform(X)\n",
    "        fnames = pd.DataFrame(data={'attribute': X.columns,\n",
    "                                    'chi2': fsel_test.scores_}) \\\n",
    "                                    .sort_values(by='chi2', ascending=False) \\\n",
    "                                    .head(k).attribute.values\n",
    "        print(\"\\nSelected Features:\\n{}\".format(fnames))\n",
    "        \n",
    "        X_train = features\n",
    "        test = fsel_test.transform(test_data)\n",
    "\n",
    "    elif method == 'rfe':\n",
    "        fsel_mod = RFE(model(verbose=1, n_jobs=-1), k)\n",
    "        fsel_test = fsel_mod.fit(X, y)\n",
    "        fnames = X.columns[fsel_test.support_]\n",
    "        print(\"Selected Features:{}\".format(fnames))\n",
    "        \n",
    "        X_train = X.loc[:,fnames].as_matrix()\n",
    "        test = fsel_test.transform(test_data)\n",
    "\n",
    "    elif method == 'pca':\n",
    "        fsel_mod = PCA(n_components=k)\n",
    "        fsel_test = fsel_mod.fit(X)\n",
    "        print(\"Explained Variance:{}\".format(fsel_test.explained_variance_ratio_))\n",
    "        #print(\"Fit components:{}\".format(fsel_test.components_))\n",
    "        \n",
    "        X_train = fsel_test.transform(X)\n",
    "        test = fsel_test.transform(test_data)\n",
    "\n",
    "    elif method == 'fimp':\n",
    "        fsel_mod = model()\n",
    "        fsel_test = fsel_mod.fit(X, y)\n",
    "        fnames = pd.DataFrame(data={'attribute': X.columns,\n",
    "                                    'fimp': fsel_test.feature_importances_}) \\\n",
    "                                    .sort_values(by='fimp', ascending=False) \\\n",
    "                                    .head(k).attribute.values\n",
    "        print(\"Selected Features:{}\".format(fnames))\n",
    "        \n",
    "        X_train = X.loc[:,fnames].as_matrix()\n",
    "        test = test_data.loc[:,fnames].as_matrix()\n",
    "\n",
    "    else:\n",
    "        print(\"The {} method does not exist!\".format(method))\n",
    "    \n",
    "    end = time.time()\n",
    "    print(\"{} seconds\".format(end - start))\n",
    "    \n",
    "    return X_train, test"
   ]
  },
  {
   "cell_type": "markdown",
   "metadata": {},
   "source": [
    "## Standardization"
   ]
  },
  {
   "cell_type": "code",
   "execution_count": 18,
   "metadata": {},
   "outputs": [],
   "source": [
    "def standardize(train, test):\n",
    "    \"\"\"\\nStandardize the traning and test datasets.\n",
    "    \"\"\"\n",
    "    start = time.time()\n",
    "    print(\"\\nStandardization...\")\n",
    "    \n",
    "    scaler = StandardScaler()\n",
    "    scaler.fit(train)\n",
    "\n",
    "    train = scaler.transform(train)\n",
    "    test = scaler.transform(test)\n",
    "\n",
    "    end = time.time()\n",
    "    print(\"{} seconds\".format(end - start))\n",
    "    \n",
    "    return train, test"
   ]
  },
  {
   "cell_type": "markdown",
   "metadata": {},
   "source": [
    "## Normalization"
   ]
  },
  {
   "cell_type": "code",
   "execution_count": 19,
   "metadata": {},
   "outputs": [],
   "source": [
    "def normalize(train, test):\n",
    "    \"\"\"Normalize the training and test datasets.\"\"\"\n",
    "    start = time.time()\n",
    "    print(\"\\nNormalization...\")\n",
    "    \n",
    "    scaler = MinMaxScaler()\n",
    "    scaler.fit(train)\n",
    "\n",
    "    train = scaler.transform(train)\n",
    "    test = scaler.transform(test)\n",
    "\n",
    "    print(\"{} seconds\".format(time.time() - start))\n",
    "    return train, test"
   ]
  },
  {
   "cell_type": "markdown",
   "metadata": {},
   "source": [
    "## The preprocessing function tying all the above together"
   ]
  },
  {
   "cell_type": "code",
   "execution_count": 20,
   "metadata": {},
   "outputs": [],
   "source": [
    "def preprocess(train, test,\n",
    "               dropcors=True,\n",
    "               outl_drop=True,\n",
    "               repnas=False,\n",
    "               repnanvals=True,\n",
    "               #oneregdate=False,\n",
    "               usedatecols=True,\n",
    "               usecats=True,\n",
    "               featsel=False,\n",
    "               stand=True,\n",
    "               norm=False):\n",
    "    \"\"\"Runs preprocessing steps on both the train and test data.\n",
    "    Takes the train and test data as DataFrames and the following parameters:\n",
    "    \n",
    "        dropcors=True,\n",
    "            Drop correlated attributes.\n",
    "\n",
    "        outl_drop=True,\n",
    "            Drop outliers.\n",
    "\n",
    "        repnas=False,\n",
    "            Replace missing values of an attribute with a random value from the same column.\n",
    "\n",
    "        repnanvals=True,\n",
    "            Replace missing value codes of an attribute with a random value from the same column.\n",
    "\n",
    "        #oneregdate=False,\n",
    "        #    Merges registration date columns into a single attributes.\n",
    "\n",
    "        usedatecols=True,\n",
    "            Split DateTime columns into separate year and month attributes. If \"False\", drops them.\n",
    "\n",
    "        usecats=True\n",
    "            Transform categorical values into dummy attributes. If \"False\", drops them.\n",
    "        \n",
    "        featsel=False\n",
    "            The automatic feature selection method:\n",
    "            \n",
    "            'univar': Univariate feature selection based on chi-squared test.\n",
    "            'rfe': Recursive Feature Elimination\n",
    "            'pca': Principal Component Analysis\n",
    "            'fimp': Feature importance\n",
    "        \n",
    "        stand=True\n",
    "            Strandardize the train and test datasets.\n",
    "        \n",
    "        norm=False\n",
    "            Normalize the train and test datasets.\n",
    "\n",
    "    Returns the following items:\n",
    "    X_train\n",
    "        The preprocessed training dataset\n",
    "\n",
    "    y_train\n",
    "        The target data for X_train\n",
    "\n",
    "    X_test\n",
    "        The preprocessed test dataset\n",
    "    \"\"\"\n",
    "    \n",
    "    cord_cols = []\n",
    "    datasets = ['tr', 'te']\n",
    "    training_rows = []\n",
    "\n",
    "    X_train = np.array([])\n",
    "    X_test = np.array([])\n",
    "    \n",
    "    y_train =  train.loc[:,['label']].copy()\n",
    "    train = train.loc[:,train.columns.difference(['id', 'label'])]\n",
    "    test = test.loc[:,test.columns.difference(['id'])]    \n",
    "    \n",
    "    \n",
    "    for data in (train, test):\n",
    "        #print(\"\\nOriginal:{}\".format(data.shape))\n",
    "        #print(\"columns:\\n{}\\n\".format(data.columns))\n",
    "\n",
    "        if repnanvals == True: # Replacing data-specific missing codes\n",
    "            rep_nanvals(data, col_nanval, inplace=True)\n",
    "            #print(\"nanvals:{}\".format(data.shape))\n",
    "            #print(\"columns:\\n{}\\n\".format(data.columns))\n",
    "\n",
    "        if repnas == True: # Replacing NaN values\n",
    "            rep_nas(data, inplace=True)\n",
    "            #print(\"repnas:{}\".format(data.shape))\n",
    "            #print(\"columns:\\n{}\\n\".format(data.columns))\n",
    "\n",
    "        #if oneregdate == True: # Merging the registration date attributes into a single one\n",
    "        #    yr_mth(data, 'yearOfRegistration', 'monthOfRegistration', inplace=True)\n",
    "        #    #print(\"yr_mth:{}\".format(data.shape))\n",
    "        #    #print(\"columns:\\n{}\\n\".format(data.columns))\n",
    "\n",
    "        if usedatecols == True: # Splitting up the attributes with DateTime data type\n",
    "            split_datetype(data, date_cols, inplace=True)\n",
    "            #print(\"split_datetype:{}\".format(data.shape))\n",
    "            #print(\"columns:\\n{}\\n\".format(data.columns))\n",
    "            #print(data.dtypes)\n",
    "\n",
    "        if usecats == True: # Using category attributes\n",
    "            data = cat_dummies(data)\n",
    "            #print(\"cat_dummies:{}\".format(data.shape))\n",
    "            #print(\"columns:\\n{}\\n\".format(data.columns))\n",
    "        else:\n",
    "            num_cols = data.select_dtypes(include=np.number).columns\n",
    "            data = data.loc[:,num_cols]\n",
    "\n",
    "        if datasets.pop(0) == 'tr': # Steps for the training dataset\n",
    "            if outl_drop == True:\n",
    "                drop_outliers(data)\n",
    "                #print(\"drop_outliers:{}\".format(data.shape))\n",
    "\n",
    "            if dropcors == True:\n",
    "                cord_cols = drop_cors(data)\n",
    "                #print(\"drop_cors:{}\".format(data.shape))\n",
    "\n",
    "            X_train = data\n",
    "            train_idx = X_train.index\n",
    "            #print(\"X_train columns:{}\".format(data.columns))\n",
    "            \n",
    "        else: # Steps for the test dataset\n",
    "            #if dropcors == True:\n",
    "            #    data.drop(data.loc[:,cord_cols], axis=1, inplace=True)\n",
    "            \n",
    "            #print(\"drop_cors:{}\".format(data.shape))\n",
    "            #print(\"X_test columns:{}\".format(data.columns))\n",
    "\n",
    "            X_test = data\n",
    "\n",
    "    # Dropping attributes from the train dataset which are not in the training data set\n",
    "    X_train.drop(columns=X_train.columns[X_train.columns.isin(X_test.columns) == False], inplace=True)\n",
    "    # X_test.drop(columns=X_test.columns[X_test.columns.isin(X_train.columns) == False], inplace=True)\n",
    "\n",
    "    print(\"X_train.shape:{}\".format(X_train.shape))\n",
    "    print(\"X_test.shape:{}\".format(X_test.shape))\n",
    "    \n",
    "    \n",
    "    # Defining the training targets for the existing rows\n",
    "    y_train = y_train.loc[train_idx, :].as_matrix().ravel()\n",
    "    \n",
    "    ## Feature selection\n",
    "    if featsel in ('univar', 'rfe', 'pca', 'fimp'):\n",
    "        X_train, X_test = fsel(X_train,\n",
    "                               y_train,\n",
    "                               test_data=X_test,\n",
    "                               method='fimp',\n",
    "                               model=RandomForestClassifier,\n",
    "                               k=90)\n",
    "\n",
    "    ## Standardization\n",
    "    if stand == True:\n",
    "        X_train, X_test = standardize(X_train, X_test)\n",
    "\n",
    "    ## Normalization\n",
    "    if norm == True:\n",
    "        X_train, X_test = nstandormalize(X_train, X_test)\n",
    "    \n",
    "    return X_train, y_train, X_test\n",
    "    \n",
    "    # Uses or results:\n",
    "    # y_train = train.loc[train_idx, 'label'].copy()\n",
    "    # results = eval_models(models, X_train, y_train)\n",
    "    # rf_gridCV_2 = param_search(X_train, y_train, RandomForestClassifier, rf_params)\n",
    "    # res = rep_cv(X_train, y_train, rf_gridCV_2.best_estimator_)\n",
    "    # get_1confs(X_train, y_train, X_test, rf_gridCV_2.best_estimator_)"
   ]
  },
  {
   "cell_type": "markdown",
   "metadata": {},
   "source": [
    "# Modeling\n",
    "## Models to try\n",
    "A list of models (sometimes with additional parameters) which the `eval_models` function test on the data."
   ]
  },
  {
   "cell_type": "code",
   "execution_count": 21,
   "metadata": {},
   "outputs": [],
   "source": [
    "models = {\"RandomForestClassifier\": RandomForestClassifier(max_features=0.25, criterion=\"entropy\"), # n_estimators=100\n",
    "          \"Gradient Boosting Classifier\": GradientBoostingClassifier(max_features='log2', n_estimators=500),\n",
    "          \"AdaBoost Classifier\": AdaBoostClassifier(),\n",
    "          \"LinearDiscriminantAnalysis\": LinearDiscriminantAnalysis(),\n",
    "          \"LogisticRegression\": LogisticRegression(C=1.5, penalty='l1'),\n",
    "          \"GaussianNB\": GaussianNB(),\n",
    "          \"Decision Tree Cl - Gini\": DecisionTreeClassifier(),\n",
    "          #\"Extra Tree Classifier\": ExtraTreeClassifier(criterion='entropy', max_features='log2'),\n",
    "          #\"MLPClassifier\": MLPClassifier(),\n",
    "          #\"K-NN_3 Classifier \": KNeighborsClassifier(3),\n",
    "          #\"QuadraticDiscriminantAnalysis\": QuadraticDiscriminantAnalysis(), # very bad performance\n",
    "          #\"Linear SVC\": LinearSVC(),\n",
    "          }"
   ]
  },
  {
   "cell_type": "markdown",
   "metadata": {},
   "source": [
    "# Execution\n",
    "## Preprocessing and train/test split"
   ]
  },
  {
   "cell_type": "markdown",
   "metadata": {},
   "source": [
    "First we process the sample"
   ]
  },
  {
   "cell_type": "code",
   "execution_count": 22,
   "metadata": {
    "scrolled": true
   },
   "outputs": [
    {
     "name": "stdout",
     "output_type": "stream",
     "text": [
      "\n",
      "Replacing data-specific missing codes...\n",
      "Duration:0.04809141159057617\n",
      "\n",
      "Splitting date columns...\n",
      "Duration:9.843006372451782\n",
      "\n",
      "Creating dummy variables...\n"
     ]
    },
    {
     "name": "stderr",
     "output_type": "stream",
     "text": [
      "/home/andras/anaconda3/lib/python3.6/site-packages/ipykernel_launcher.py:9: FutureWarning: \n",
      "Passing list-likes to .loc or [] with any missing label will raise\n",
      "KeyError in the future, you can use .reindex() as an alternative.\n",
      "\n",
      "See the documentation here:\n",
      "http://pandas.pydata.org/pandas-docs/stable/indexing.html#deprecate-loc-reindex-listlike\n",
      "  if __name__ == '__main__':\n",
      "/home/andras/anaconda3/lib/python3.6/site-packages/pandas/core/indexing.py:1367: FutureWarning: \n",
      "Passing list-likes to .loc or [] with any missing label will raise\n",
      "KeyError in the future, you can use .reindex() as an alternative.\n",
      "\n",
      "See the documentation here:\n",
      "http://pandas.pydata.org/pandas-docs/stable/indexing.html#deprecate-loc-reindex-listlike\n",
      "  return self._getitem_tuple(key)\n"
     ]
    },
    {
     "name": "stdout",
     "output_type": "stream",
     "text": [
      "1.260565996170044 seconds\n",
      "\n",
      "Handling outliers...\n",
      "73.38892340660095 seconds\n",
      "\n",
      "Checking for attribute correlations...\n",
      "Correlated attributes to drop:['lastSeen_dy', 'gearbox_manuell', 'model_601', 'model_cooper', 'model_fortwo', 'model_niva', 'model_ypsilon']\n",
      "17.810032606124878 seconds\n",
      "\n",
      "Replacing data-specific missing codes...\n",
      "Duration:0.014958620071411133\n",
      "\n",
      "Splitting date columns...\n",
      "Duration:15.263983011245728\n",
      "\n",
      "Creating dummy variables...\n"
     ]
    },
    {
     "name": "stderr",
     "output_type": "stream",
     "text": [
      "/home/andras/anaconda3/lib/python3.6/site-packages/ipykernel_launcher.py:9: FutureWarning: \n",
      "Passing list-likes to .loc or [] with any missing label will raise\n",
      "KeyError in the future, you can use .reindex() as an alternative.\n",
      "\n",
      "See the documentation here:\n",
      "http://pandas.pydata.org/pandas-docs/stable/indexing.html#deprecate-loc-reindex-listlike\n",
      "  if __name__ == '__main__':\n",
      "/home/andras/anaconda3/lib/python3.6/site-packages/pandas/core/indexing.py:1367: FutureWarning: \n",
      "Passing list-likes to .loc or [] with any missing label will raise\n",
      "KeyError in the future, you can use .reindex() as an alternative.\n",
      "\n",
      "See the documentation here:\n",
      "http://pandas.pydata.org/pandas-docs/stable/indexing.html#deprecate-loc-reindex-listlike\n",
      "  return self._getitem_tuple(key)\n"
     ]
    },
    {
     "name": "stdout",
     "output_type": "stream",
     "text": [
      "2.252896547317505 seconds\n",
      "X_train.shape:(62386, 298)\n",
      "X_test.shape:(107208, 306)\n",
      "\n",
      "Automatic feature selection...\n",
      "Selected Features:['postalCode' 'powerPS' 'yearOfRegistration' 'visiblePeriod'\n",
      " 'dateCreated_dy' 'monthOfRegistration' 'kilometer'\n",
      " 'notRepairedDamage_nein' 'notRepairedDamage_ja' 'lastSeen_mt'\n",
      " 'gearbox_automatik' 'fuelType_benzin' 'vehicleType_limousine'\n",
      " 'fuelType_diesel' 'vehicleType_cabrio' 'vehicleType_kombi'\n",
      " 'dateCreated_mt' 'model_andere' 'brand_volkswagen'\n",
      " 'vehicleType_kleinwagen' 'brand_bmw' 'brand_opel' 'brand_mercedes_benz'\n",
      " 'model_golf' 'brand_audi' 'brand_ford' 'model_3er' 'vehicleType_coupe'\n",
      " 'vehicleType_bus' 'brand_renault' 'vehicleType_suv' 'model_c_klasse'\n",
      " 'brand_peugeot' 'brand_sonstige_autos' 'model_astra' 'model_passat'\n",
      " 'model_a4' 'brand_fiat' 'model_corsa' 'model_a3' 'model_e_klasse'\n",
      " 'model_polo' 'brand_mazda' 'fuelType_lpg' 'brand_citroen' 'brand_seat'\n",
      " 'model_focus' 'model_5er' 'brand_skoda' 'model_transporter'\n",
      " 'model_fiesta' 'model_a6' 'brand_smart' 'model_vectra' 'brand_toyota'\n",
      " 'model_2_reihe' 'brand_nissan' 'model_a_klasse' 'model_3_reihe'\n",
      " 'brand_hyundai' 'vehicleType_andere' 'model_twingo' 'model_mondeo'\n",
      " 'model_punto' 'model_touran' 'brand_mini' 'model_1er' 'brand_mitsubishi'\n",
      " 'model_lupo' 'model_clio' 'model_x_reihe' 'model_megane' 'model_ibiza'\n",
      " 'model_zafira' 'brand_kia' 'brand_honda' 'brand_volvo' 'model_ka'\n",
      " 'brand_alfa_romeo' 'brand_suzuki' 'model_caddy' 'model_fabia'\n",
      " 'brand_porsche' 'model_sharan' 'model_octavia' 'brand_chevrolet'\n",
      " 'model_80' 'model_z_reihe' 'model_clk' 'model_micra']\n",
      "4.129136085510254 seconds\n",
      "\n",
      "Standardization...\n",
      "0.6715342998504639 seconds\n"
     ]
    }
   ],
   "source": [
    "X_train, y_train, X_test = preprocess(samp, test,\n",
    "                                      dropcors=True,\n",
    "                                      outl_drop=True,\n",
    "                                      repnas=False,\n",
    "                                      repnanvals=True,\n",
    "                                      #oneregdate=False,\n",
    "                                      usedatecols=True,\n",
    "                                      usecats=True,\n",
    "                                      featsel='fimp',\n",
    "                                      stand=True,\n",
    "                                      norm=False)"
   ]
  },
  {
   "cell_type": "markdown",
   "metadata": {},
   "source": [
    "# Modeling"
   ]
  },
  {
   "cell_type": "markdown",
   "metadata": {},
   "source": [
    "## Evaluating models"
   ]
  },
  {
   "cell_type": "markdown",
   "metadata": {},
   "source": [
    "On the sample we evaluate the models."
   ]
  },
  {
   "cell_type": "code",
   "execution_count": 23,
   "metadata": {},
   "outputs": [],
   "source": [
    "def eval_models(models, X, y):\n",
    "    \"\"\"Evaluates selected model's prediction power on the cross-validated training datasets.\n",
    "    Takes\n",
    "        models: Dictionary of \"model_name\": model() pairs.\n",
    "        X: predictor attributes\n",
    "        y: target attribute\n",
    "    \"\"\"\n",
    "    results = []\n",
    "    for model in models:\n",
    "        #print(\"Running {}...\".format(model))\n",
    "        #start = time.time()\n",
    "\n",
    "        result = []\n",
    "        result.append(model)\n",
    "\n",
    "        model_score = cross_validate(models[model],\n",
    "                                    X,\n",
    "                                    y,\n",
    "                                    scoring=['accuracy', # Evaluation metrics\n",
    "                                             'f1_micro',\n",
    "                                             'f1_macro',\n",
    "                                             'roc_auc'],\n",
    "                                    cv=kfold, # Cross-validation method\n",
    "                                    n_jobs=-1,\n",
    "                                    verbose=0,\n",
    "                                    return_train_score=False)\n",
    "\n",
    "        acc_mean = model_score['test_accuracy'].mean()\n",
    "        acc_std = model_score['test_accuracy'].std()\n",
    "        auc_mean = model_score['test_roc_auc'].mean()\n",
    "        auc_std = model_score['test_roc_auc'].std()\n",
    "\n",
    "        print(\"\\n{}:\\n\\tAccuracy: {} ({})\".format(model, \\\n",
    "                                                  acc_mean, \\\n",
    "                                                  auc_std))\n",
    "        print(\"\\tROC AUC: {} ({})\".format(auc_mean, auc_std))\n",
    "\n",
    "        #if model != \"Gradient Boosting Classifier\":\n",
    "        f1_micro_mean = model_score['test_f1_micro'].mean()\n",
    "        f1_micro_std = model_score['test_f1_micro'].std()\n",
    "        f1_macro_mean = model_score['test_f1_macro'].mean()\n",
    "        f1_macro_std = model_score['test_f1_macro'].std()\n",
    "        print(\"\\tF1 micro: {} ({})\".format(f1_micro_mean, f1_micro_std))\n",
    "        print(\"\\tF1 macro: {} ({})\".format(f1_macro_mean, f1_macro_std))\n",
    "\n",
    "        #result = result + [acc_mean, acc_std, auc_mean, auc_std]\n",
    "\n",
    "        dur = model_score['fit_time'].sum() + model_score['score_time'].sum()\n",
    "\n",
    "        print(\"\\tduration:{}\\n\".format(dur))\n",
    "        #result.append(dur)\n",
    "\n",
    "        #results.append(result)"
   ]
  },
  {
   "cell_type": "code",
   "execution_count": 24,
   "metadata": {},
   "outputs": [
    {
     "name": "stdout",
     "output_type": "stream",
     "text": [
      "\n",
      "seed:258\n"
     ]
    }
   ],
   "source": [
    "seed = np.random.randint(1000)\n",
    "print(\"\\nseed:{}\".format(seed))\n",
    "kfold = KFold(n_splits=5, random_state=seed)"
   ]
  },
  {
   "cell_type": "code",
   "execution_count": 25,
   "metadata": {
    "scrolled": false
   },
   "outputs": [
    {
     "name": "stdout",
     "output_type": "stream",
     "text": [
      "\n",
      "RandomForestClassifier:\n",
      "\tAccuracy: 0.7010547170859134 (0.0038141402971097224)\n",
      "\tROC AUC: 0.752308720427382 (0.0038141402971097224)\n",
      "\tF1 micro: 0.7010547170859134 (0.003005916258065509)\n",
      "\tF1 macro: 0.6737741586005092 (0.00224231619875556)\n",
      "\tduration:20.35589027404785\n",
      "\n",
      "\n",
      "Gradient Boosting Classifier:\n",
      "\tAccuracy: 0.7158337116861783 (0.004818091392073195)\n",
      "\tROC AUC: 0.7789780838631672 (0.004818091392073195)\n",
      "\tF1 micro: 0.7158337116861784 (0.0042321057946571984)\n",
      "\tF1 macro: 0.694464501482503 (0.004298639013616878)\n",
      "\tduration:183.16096210479736\n",
      "\n",
      "\n",
      "AdaBoost Classifier:\n",
      "\tAccuracy: 0.6993717139649152 (0.004817365667097355)\n",
      "\tROC AUC: 0.7578757958070237 (0.004817365667097355)\n",
      "\tF1 micro: 0.6993717139649152 (0.003797241848309439)\n",
      "\tF1 macro: 0.6766020002702782 (0.003457388945043552)\n",
      "\tduration:52.436386823654175\n",
      "\n",
      "\n",
      "LinearDiscriminantAnalysis:\n",
      "\tAccuracy: 0.6737088661794537 (0.003713448881459202)\n",
      "\tROC AUC: 0.7259069047881604 (0.003713448881459202)\n",
      "\tF1 micro: 0.6737088661794537 (0.0027735838029534607)\n",
      "\tF1 macro: 0.6451402945265793 (0.003175340392054761)\n",
      "\tduration:9.471294403076172\n",
      "\n",
      "\n",
      "LogisticRegression:\n",
      "\tAccuracy: 0.6811464860048371 (0.0036565986126187145)\n",
      "\tROC AUC: 0.7356698578826885 (0.0036565986126187145)\n",
      "\tF1 micro: 0.6811464860048371 (0.0026033413974553754)\n",
      "\tF1 macro: 0.6547891706594278 (0.003148903872166176)\n",
      "\tduration:51.700451374053955\n",
      "\n",
      "\n",
      "GaussianNB:\n",
      "\tAccuracy: 0.6118359843339506 (0.005533967308698066)\n",
      "\tROC AUC: 0.6453111595327183 (0.005533967308698066)\n",
      "\tF1 micro: 0.6118359843339506 (0.00605857662295711)\n",
      "\tF1 macro: 0.5881930523785559 (0.00789485865678236)\n",
      "\tduration:3.8609633445739746\n",
      "\n",
      "\n",
      "Decision Tree Cl - Gini:\n",
      "\tAccuracy: 0.6482864646618957 (0.0034871306256358476)\n",
      "\tROC AUC: 0.6354528881847524 (0.0034871306256358476)\n",
      "\tF1 micro: 0.6482864646618957 (0.003717407834331855)\n",
      "\tF1 macro: 0.6353042024200013 (0.0035120133255009075)\n",
      "\tduration:8.23332667350769\n",
      "\n"
     ]
    }
   ],
   "source": [
    "results = eval_models(models, X_train, y_train)\n",
    "#print(\"results:{}\".format(results))"
   ]
  },
  {
   "cell_type": "markdown",
   "metadata": {},
   "source": [
    "# Grid search\n",
    "After a couple of evaluation rounds we finally choose the Random Forest Classifier. It seems that with the increase of training data it tends to give the best results.\n",
    "\n",
    "Accordingly we ran GridSearch on the whole dataset with various parameters of the Random Forest Classifier.\n",
    "\n",
    "Based on the previous runs, increasing the number of estimators creates better results but also becomes very time consuming. For the sake of demonstration I set this parameter to 200."
   ]
  },
  {
   "cell_type": "markdown",
   "metadata": {},
   "source": [
    "## Preprocessing the whole dataset:"
   ]
  },
  {
   "cell_type": "code",
   "execution_count": 26,
   "metadata": {
    "scrolled": true
   },
   "outputs": [
    {
     "name": "stdout",
     "output_type": "stream",
     "text": [
      "\n",
      "Replacing data-specific missing codes...\n",
      "Duration:0.03609895706176758\n",
      "\n",
      "Splitting date columns...\n",
      "Duration:35.71002531051636\n",
      "\n",
      "Creating dummy variables...\n"
     ]
    },
    {
     "name": "stderr",
     "output_type": "stream",
     "text": [
      "/home/andras/anaconda3/lib/python3.6/site-packages/ipykernel_launcher.py:9: FutureWarning: \n",
      "Passing list-likes to .loc or [] with any missing label will raise\n",
      "KeyError in the future, you can use .reindex() as an alternative.\n",
      "\n",
      "See the documentation here:\n",
      "http://pandas.pydata.org/pandas-docs/stable/indexing.html#deprecate-loc-reindex-listlike\n",
      "  if __name__ == '__main__':\n",
      "/home/andras/anaconda3/lib/python3.6/site-packages/pandas/core/indexing.py:1367: FutureWarning: \n",
      "Passing list-likes to .loc or [] with any missing label will raise\n",
      "KeyError in the future, you can use .reindex() as an alternative.\n",
      "\n",
      "See the documentation here:\n",
      "http://pandas.pydata.org/pandas-docs/stable/indexing.html#deprecate-loc-reindex-listlike\n",
      "  return self._getitem_tuple(key)\n"
     ]
    },
    {
     "name": "stdout",
     "output_type": "stream",
     "text": [
      "5.280261278152466 seconds\n",
      "\n",
      "Handling outliers...\n",
      "271.8466818332672 seconds\n",
      "\n",
      "Checking for attribute correlations...\n",
      "Correlated attributes to drop:['lastSeen_dy', 'gearbox_manuell', 'model_601', 'model_cooper', 'model_cuore', 'model_fortwo', 'model_niva', 'model_ypsilon']\n",
      "71.99041891098022 seconds\n",
      "\n",
      "Replacing data-specific missing codes...\n",
      "Duration:0.008980512619018555\n",
      "\n",
      "Splitting date columns...\n",
      "Duration:15.24856972694397\n",
      "\n",
      "Creating dummy variables...\n",
      "2.1421334743499756 seconds\n",
      "X_train.shape:(247650, 298)\n",
      "X_test.shape:(107208, 306)\n",
      "\n",
      "Automatic feature selection...\n",
      "Selected Features:['postalCode' 'powerPS' 'yearOfRegistration' 'dateCreated_dy'\n",
      " 'visiblePeriod' 'monthOfRegistration' 'kilometer'\n",
      " 'notRepairedDamage_nein' 'notRepairedDamage_ja' 'lastSeen_mt'\n",
      " 'gearbox_automatik' 'vehicleType_cabrio' 'fuelType_benzin'\n",
      " 'vehicleType_limousine' 'fuelType_diesel' 'vehicleType_kombi'\n",
      " 'vehicleType_kleinwagen' 'model_andere' 'brand_volkswagen'\n",
      " 'dateCreated_mt' 'model_golf' 'brand_bmw' 'brand_opel'\n",
      " 'vehicleType_coupe' 'brand_mercedes_benz' 'vehicleType_bus' 'brand_audi'\n",
      " 'brand_ford' 'model_3er' 'brand_renault' 'vehicleType_suv'\n",
      " 'brand_sonstige_autos' 'brand_peugeot' 'brand_fiat' 'model_astra'\n",
      " 'model_a3' 'model_a4' 'brand_mazda' 'fuelType_lpg' 'model_passat'\n",
      " 'brand_seat' 'model_polo' 'model_corsa' 'brand_citroen' 'model_5er'\n",
      " 'model_e_klasse' 'brand_nissan' 'model_c_klasse' 'model_focus'\n",
      " 'brand_toyota' 'model_a6' 'brand_skoda' 'brand_smart'\n",
      " 'vehicleType_andere' 'brand_hyundai' 'model_transporter' 'model_mondeo'\n",
      " 'model_vectra' 'brand_mini' 'model_fiesta' 'model_2_reihe'\n",
      " 'model_3_reihe' 'model_a_klasse' 'model_twingo' 'model_touran'\n",
      " 'brand_mitsubishi' 'model_megane' 'model_1er' 'brand_honda' 'brand_volvo'\n",
      " 'model_ibiza' 'model_punto' 'model_lupo' 'brand_kia' 'model_clio'\n",
      " 'model_z_reihe' 'model_x_reihe' 'model_zafira' 'model_ka' 'brand_suzuki'\n",
      " 'brand_alfa_romeo' 'model_caddy' 'brand_chevrolet' 'model_octavia'\n",
      " 'brand_porsche' 'model_fabia' 'model_micra' 'model_tt' 'model_leon'\n",
      " 'model_clk']\n",
      "20.526181936264038 seconds\n",
      "\n",
      "Standardization...\n",
      "1.61509108543396 seconds\n"
     ]
    }
   ],
   "source": [
    "X_train, y_train, X_test = preprocess(train, test,\n",
    "                                      dropcors=True,\n",
    "                                      outl_drop=True,\n",
    "                                      repnas=False,\n",
    "                                      repnanvals=True,\n",
    "                                      #oneregdate=False,\n",
    "                                      usedatecols=True,\n",
    "                                      usecats=True,\n",
    "                                      featsel='fimp',\n",
    "                                      stand=True,\n",
    "                                      norm=False)"
   ]
  },
  {
   "cell_type": "code",
   "execution_count": 27,
   "metadata": {},
   "outputs": [],
   "source": [
    "def param_search(train, target, model, pars):\n",
    "    \"\"\"Runs a grid search on the data.\n",
    "    Takes\n",
    "        train: The predictor attributes\n",
    "        \n",
    "        target: The target attribute\n",
    "        \n",
    "        model: the used model\n",
    "        \n",
    "        pars: The parameters on which it runs the grid search.\n",
    "    \"\"\"\n",
    "    start = time.time()\n",
    "\n",
    "    print(\"Starting grid search for parameters...\")\n",
    "    grid_m = GridSearchCV(\n",
    "        estimator=model(),\n",
    "        param_grid=pars.param_grid,\n",
    "        scoring=['accuracy', # Metrics to measure\n",
    "                 'f1_micro',\n",
    "                 'f1_macro',\n",
    "                 'roc_auc'],\n",
    "        n_jobs=-1,\n",
    "        verbose=2,\n",
    "        refit='roc_auc', # The chosen 'primary' metric, which it uses to refit.\n",
    "        iid=False)\n",
    "    grid_m.fit(train, target)\n",
    "    print(grid_m.cv_results_)\n",
    "\n",
    "    return grid_m\n",
    "    print(\"Duration:{}\".format(time.time() - start))"
   ]
  },
  {
   "cell_type": "code",
   "execution_count": 28,
   "metadata": {},
   "outputs": [],
   "source": [
    "rf_params = ParameterGrid({\n",
    "    #'criterion': ['gini', 'entropy'],\n",
    "    #'max_depth': [None], # , 5, 4, 3\n",
    "    'max_features': [0.35, 0.3], #'sqrt', 'log2'\n",
    "    'min_samples_split': [3, 4], #0.01\n",
    "    'n_estimators': [200], # 1000\n",
    "    # 'min_samples_leaf': [0.01],\n",
    "    #'min_weight_fraction_leaf': [0.01],\n",
    "    #'min_impurtity_decrease': [0, 0.1, 0.2, 0.3],\n",
    "    'n_jobs': [-1],\n",
    "    'random_state': [seed],\n",
    "    'verbose': [0],\n",
    "    #'class_weight': [],\n",
    "    })"
   ]
  },
  {
   "cell_type": "code",
   "execution_count": 29,
   "metadata": {
    "scrolled": true
   },
   "outputs": [
    {
     "name": "stdout",
     "output_type": "stream",
     "text": [
      "Starting grid search for parameters...\n",
      "Fitting 3 folds for each of 4 candidates, totalling 12 fits\n",
      "[CV] max_features=0.35, min_samples_split=3, n_estimators=200, n_jobs=-1, random_state=258, verbose=0 \n",
      "[CV] max_features=0.35, min_samples_split=3, n_estimators=200, n_jobs=-1, random_state=258, verbose=0 \n",
      "[CV]  max_features=0.35, min_samples_split=3, n_estimators=200, n_jobs=-1, random_state=258, verbose=0, total= 6.3min\n",
      "[CV] max_features=0.35, min_samples_split=3, n_estimators=200, n_jobs=-1, random_state=258, verbose=0 \n",
      "[CV]  max_features=0.35, min_samples_split=3, n_estimators=200, n_jobs=-1, random_state=258, verbose=0, total= 6.4min\n",
      "[CV] max_features=0.35, min_samples_split=4, n_estimators=200, n_jobs=-1, random_state=258, verbose=0 \n",
      "[CV]  max_features=0.35, min_samples_split=3, n_estimators=200, n_jobs=-1, random_state=258, verbose=0, total= 6.4min\n",
      "[CV] max_features=0.35, min_samples_split=4, n_estimators=200, n_jobs=-1, random_state=258, verbose=0 \n",
      "[CV]  max_features=0.35, min_samples_split=4, n_estimators=200, n_jobs=-1, random_state=258, verbose=0, total= 6.4min\n",
      "[CV] max_features=0.35, min_samples_split=4, n_estimators=200, n_jobs=-1, random_state=258, verbose=0 \n",
      "[CV]  max_features=0.35, min_samples_split=4, n_estimators=200, n_jobs=-1, random_state=258, verbose=0, total= 6.3min\n",
      "[CV] max_features=0.3, min_samples_split=3, n_estimators=200, n_jobs=-1, random_state=258, verbose=0 \n",
      "[CV]  max_features=0.35, min_samples_split=4, n_estimators=200, n_jobs=-1, random_state=258, verbose=0, total= 6.3min\n",
      "[CV] max_features=0.3, min_samples_split=3, n_estimators=200, n_jobs=-1, random_state=258, verbose=0 \n",
      "[CV]  max_features=0.3, min_samples_split=3, n_estimators=200, n_jobs=-1, random_state=258, verbose=0, total= 5.7min\n",
      "[CV] max_features=0.3, min_samples_split=3, n_estimators=200, n_jobs=-1, random_state=258, verbose=0 \n",
      "[CV]  max_features=0.3, min_samples_split=3, n_estimators=200, n_jobs=-1, random_state=258, verbose=0, total= 5.8min\n",
      "[CV] max_features=0.3, min_samples_split=4, n_estimators=200, n_jobs=-1, random_state=258, verbose=0 \n",
      "[CV]  max_features=0.3, min_samples_split=3, n_estimators=200, n_jobs=-1, random_state=258, verbose=0, total= 5.7min\n",
      "[CV] max_features=0.3, min_samples_split=4, n_estimators=200, n_jobs=-1, random_state=258, verbose=0 \n",
      "[CV]  max_features=0.3, min_samples_split=4, n_estimators=200, n_jobs=-1, random_state=258, verbose=0, total= 5.7min\n",
      "[CV] max_features=0.3, min_samples_split=4, n_estimators=200, n_jobs=-1, random_state=258, verbose=0 \n",
      "[CV]  max_features=0.3, min_samples_split=4, n_estimators=200, n_jobs=-1, random_state=258, verbose=0, total= 7.4min\n",
      "[CV]  max_features=0.3, min_samples_split=4, n_estimators=200, n_jobs=-1, random_state=258, verbose=0, total= 7.6min\n"
     ]
    },
    {
     "name": "stderr",
     "output_type": "stream",
     "text": [
      "[Parallel(n_jobs=-1)]: Done  12 out of  12 | elapsed: 46.1min finished\n"
     ]
    },
    {
     "name": "stdout",
     "output_type": "stream",
     "text": [
      "{'mean_fit_time': array([347.59467467, 346.38253935, 307.64177672, 372.41725794]), 'std_fit_time': array([ 2.44666275,  3.15953105,  0.80083965, 45.35246728]), 'mean_score_time': array([36.26458557, 35.13813106, 37.26083771, 42.07505377]), 'std_score_time': array([0.51741804, 0.24752135, 0.49895347, 4.34395885]), 'param_max_features': masked_array(data=[0.35, 0.35, 0.3, 0.3],\n",
      "             mask=[False, False, False, False],\n",
      "       fill_value='?',\n",
      "            dtype=object), 'param_min_samples_split': masked_array(data=[3, 4, 3, 4],\n",
      "             mask=[False, False, False, False],\n",
      "       fill_value='?',\n",
      "            dtype=object), 'param_n_estimators': masked_array(data=[200, 200, 200, 200],\n",
      "             mask=[False, False, False, False],\n",
      "       fill_value='?',\n",
      "            dtype=object), 'param_n_jobs': masked_array(data=[-1, -1, -1, -1],\n",
      "             mask=[False, False, False, False],\n",
      "       fill_value='?',\n",
      "            dtype=object), 'param_random_state': masked_array(data=[258, 258, 258, 258],\n",
      "             mask=[False, False, False, False],\n",
      "       fill_value='?',\n",
      "            dtype=object), 'param_verbose': masked_array(data=[0, 0, 0, 0],\n",
      "             mask=[False, False, False, False],\n",
      "       fill_value='?',\n",
      "            dtype=object), 'params': [{'max_features': 0.35, 'min_samples_split': 3, 'n_estimators': 200, 'n_jobs': -1, 'random_state': 258, 'verbose': 0}, {'max_features': 0.35, 'min_samples_split': 4, 'n_estimators': 200, 'n_jobs': -1, 'random_state': 258, 'verbose': 0}, {'max_features': 0.3, 'min_samples_split': 3, 'n_estimators': 200, 'n_jobs': -1, 'random_state': 258, 'verbose': 0}, {'max_features': 0.3, 'min_samples_split': 4, 'n_estimators': 200, 'n_jobs': -1, 'random_state': 258, 'verbose': 0}], 'split0_test_accuracy': array([0.75399152, 0.75350697, 0.7549364 , 0.754149  ]), 'split1_test_accuracy': array([0.7525742 , 0.7517868 , 0.75246517, 0.75247729]), 'split2_test_accuracy': array([0.75239249, 0.75184737, 0.75236826, 0.75221078]), 'mean_test_accuracy': array([0.75298607, 0.75238038, 0.75325661, 0.75294569]), 'std_test_accuracy': array([0.00071482, 0.000797  , 0.00118845, 0.0008578 ]), 'rank_test_accuracy': array([2, 4, 1, 3], dtype=int32), 'split0_train_accuracy': array([0.99955784, 0.99660206, 0.99950939, 0.99609328]), 'split1_train_accuracy': array([0.99966081, 0.99679588, 0.99962447, 0.99640218]), 'split2_train_accuracy': array([0.99963658, 0.99671108, 0.99956996, 0.99625076]), 'mean_train_accuracy': array([0.99961841, 0.99670301, 0.99956794, 0.99624874]), 'std_train_accuracy': array([4.39562711e-05, 7.93332635e-05, 4.70036209e-05, 1.26117486e-04]), 'split0_test_f1_micro': array([0.75397941, 0.75350697, 0.7549364 , 0.754149  ]), 'split1_test_f1_micro': array([0.7525742 , 0.7517868 , 0.75246517, 0.75247729]), 'split2_test_f1_micro': array([0.75239249, 0.75184737, 0.75236826, 0.75221078]), 'mean_test_f1_micro': array([0.75298203, 0.75238038, 0.75325661, 0.75294569]), 'std_test_f1_micro': array([0.00070914, 0.000797  , 0.00118845, 0.0008578 ]), 'rank_test_f1_micro': array([2, 4, 1, 3], dtype=int32), 'split0_train_f1_micro': array([0.99955784, 0.99660206, 0.99950939, 0.99609328]), 'split1_train_f1_micro': array([0.99966081, 0.99679588, 0.99962447, 0.99640218]), 'split2_train_f1_micro': array([0.99963658, 0.99671108, 0.99956996, 0.99625076]), 'mean_train_f1_micro': array([0.99961841, 0.99670301, 0.99956794, 0.99624874]), 'std_train_f1_micro': array([4.39562711e-05, 7.93332635e-05, 4.70036209e-05, 1.26117486e-04]), 'split0_test_f1_macro': array([0.73893766, 0.73821099, 0.73971941, 0.73899174]), 'split1_test_f1_macro': array([0.73786437, 0.73692601, 0.73760172, 0.73755034]), 'split2_test_f1_macro': array([0.73715462, 0.7364566 , 0.73693939, 0.73670803]), 'mean_test_f1_macro': array([0.73798555, 0.73719787, 0.73808684, 0.73775004]), 'std_test_f1_macro': array([0.00073295, 0.00074158, 0.00118565, 0.00094295]), 'rank_test_f1_macro': array([2, 4, 1, 3], dtype=int32), 'split0_train_f1_macro': array([0.99954165, 0.99647482, 0.9994914 , 0.99594613]), 'split1_train_f1_macro': array([0.99964838, 0.99667572, 0.9996107 , 0.99626691]), 'split2_train_f1_macro': array([0.99962326, 0.99658776, 0.99955418, 0.99610958]), 'mean_train_f1_macro': array([0.99960443, 0.99657943, 0.99955209, 0.99610754]), 'std_train_f1_macro': array([4.55631280e-05, 8.22303712e-05, 4.87292319e-05, 1.30965810e-04]), 'split0_test_roc_auc': array([0.82566773, 0.82541567, 0.82579846, 0.8254418 ]), 'split1_test_roc_auc': array([0.82314042, 0.82207901, 0.82282332, 0.822941  ]), 'split2_test_roc_auc': array([0.82200149, 0.82142349, 0.82199394, 0.82104032]), 'mean_test_roc_auc': array([0.82360321, 0.82297272, 0.82353857, 0.82314104]), 'std_test_roc_auc': array([0.00153209, 0.00174803, 0.00163346, 0.00180245]), 'rank_test_roc_auc': array([1, 4, 2, 3], dtype=int32), 'split0_train_roc_auc': array([0.99999641, 0.99996542, 0.99999588, 0.9999591 ]), 'split1_train_roc_auc': array([0.99999944, 0.99997786, 0.9999993 , 0.99997054]), 'split2_train_roc_auc': array([0.99999945, 0.99997358, 0.99999913, 0.99996871]), 'mean_train_roc_auc': array([0.99999843, 0.99997229, 0.9999981 , 0.99996612]), 'std_train_roc_auc': array([1.43136448e-06, 5.16121312e-06, 1.57403884e-06, 5.01973649e-06])}\n",
      "0.8236032115459103\n"
     ]
    }
   ],
   "source": [
    "rf_gridCV_2 = param_search(X_train, y_train, RandomForestClassifier, rf_params)\n",
    "print(rf_gridCV_2.best_score_)"
   ]
  },
  {
   "cell_type": "markdown",
   "metadata": {},
   "source": [
    "We can save the results into csv."
   ]
  },
  {
   "cell_type": "code",
   "execution_count": 30,
   "metadata": {
    "scrolled": true
   },
   "outputs": [
    {
     "name": "stderr",
     "output_type": "stream",
     "text": [
      "/home/andras/anaconda3/lib/python3.6/site-packages/sklearn/utils/deprecation.py:122: FutureWarning: You are accessing a training score ('mean_train_accuracy'), which will not be available by default any more in 0.21. If you need training scores, please set return_train_score=True\n",
      "  warnings.warn(*warn_args, **warn_kwargs)\n",
      "/home/andras/anaconda3/lib/python3.6/site-packages/sklearn/utils/deprecation.py:122: FutureWarning: You are accessing a training score ('mean_train_f1_macro'), which will not be available by default any more in 0.21. If you need training scores, please set return_train_score=True\n",
      "  warnings.warn(*warn_args, **warn_kwargs)\n",
      "/home/andras/anaconda3/lib/python3.6/site-packages/sklearn/utils/deprecation.py:122: FutureWarning: You are accessing a training score ('mean_train_f1_micro'), which will not be available by default any more in 0.21. If you need training scores, please set return_train_score=True\n",
      "  warnings.warn(*warn_args, **warn_kwargs)\n",
      "/home/andras/anaconda3/lib/python3.6/site-packages/sklearn/utils/deprecation.py:122: FutureWarning: You are accessing a training score ('mean_train_roc_auc'), which will not be available by default any more in 0.21. If you need training scores, please set return_train_score=True\n",
      "  warnings.warn(*warn_args, **warn_kwargs)\n",
      "/home/andras/anaconda3/lib/python3.6/site-packages/sklearn/utils/deprecation.py:122: FutureWarning: You are accessing a training score ('split0_train_accuracy'), which will not be available by default any more in 0.21. If you need training scores, please set return_train_score=True\n",
      "  warnings.warn(*warn_args, **warn_kwargs)\n",
      "/home/andras/anaconda3/lib/python3.6/site-packages/sklearn/utils/deprecation.py:122: FutureWarning: You are accessing a training score ('split0_train_f1_macro'), which will not be available by default any more in 0.21. If you need training scores, please set return_train_score=True\n",
      "  warnings.warn(*warn_args, **warn_kwargs)\n",
      "/home/andras/anaconda3/lib/python3.6/site-packages/sklearn/utils/deprecation.py:122: FutureWarning: You are accessing a training score ('split0_train_f1_micro'), which will not be available by default any more in 0.21. If you need training scores, please set return_train_score=True\n",
      "  warnings.warn(*warn_args, **warn_kwargs)\n",
      "/home/andras/anaconda3/lib/python3.6/site-packages/sklearn/utils/deprecation.py:122: FutureWarning: You are accessing a training score ('split0_train_roc_auc'), which will not be available by default any more in 0.21. If you need training scores, please set return_train_score=True\n",
      "  warnings.warn(*warn_args, **warn_kwargs)\n",
      "/home/andras/anaconda3/lib/python3.6/site-packages/sklearn/utils/deprecation.py:122: FutureWarning: You are accessing a training score ('split1_train_accuracy'), which will not be available by default any more in 0.21. If you need training scores, please set return_train_score=True\n",
      "  warnings.warn(*warn_args, **warn_kwargs)\n",
      "/home/andras/anaconda3/lib/python3.6/site-packages/sklearn/utils/deprecation.py:122: FutureWarning: You are accessing a training score ('split1_train_f1_macro'), which will not be available by default any more in 0.21. If you need training scores, please set return_train_score=True\n",
      "  warnings.warn(*warn_args, **warn_kwargs)\n",
      "/home/andras/anaconda3/lib/python3.6/site-packages/sklearn/utils/deprecation.py:122: FutureWarning: You are accessing a training score ('split1_train_f1_micro'), which will not be available by default any more in 0.21. If you need training scores, please set return_train_score=True\n",
      "  warnings.warn(*warn_args, **warn_kwargs)\n",
      "/home/andras/anaconda3/lib/python3.6/site-packages/sklearn/utils/deprecation.py:122: FutureWarning: You are accessing a training score ('split1_train_roc_auc'), which will not be available by default any more in 0.21. If you need training scores, please set return_train_score=True\n",
      "  warnings.warn(*warn_args, **warn_kwargs)\n",
      "/home/andras/anaconda3/lib/python3.6/site-packages/sklearn/utils/deprecation.py:122: FutureWarning: You are accessing a training score ('split2_train_accuracy'), which will not be available by default any more in 0.21. If you need training scores, please set return_train_score=True\n",
      "  warnings.warn(*warn_args, **warn_kwargs)\n",
      "/home/andras/anaconda3/lib/python3.6/site-packages/sklearn/utils/deprecation.py:122: FutureWarning: You are accessing a training score ('split2_train_f1_macro'), which will not be available by default any more in 0.21. If you need training scores, please set return_train_score=True\n",
      "  warnings.warn(*warn_args, **warn_kwargs)\n",
      "/home/andras/anaconda3/lib/python3.6/site-packages/sklearn/utils/deprecation.py:122: FutureWarning: You are accessing a training score ('split2_train_f1_micro'), which will not be available by default any more in 0.21. If you need training scores, please set return_train_score=True\n",
      "  warnings.warn(*warn_args, **warn_kwargs)\n",
      "/home/andras/anaconda3/lib/python3.6/site-packages/sklearn/utils/deprecation.py:122: FutureWarning: You are accessing a training score ('split2_train_roc_auc'), which will not be available by default any more in 0.21. If you need training scores, please set return_train_score=True\n",
      "  warnings.warn(*warn_args, **warn_kwargs)\n",
      "/home/andras/anaconda3/lib/python3.6/site-packages/sklearn/utils/deprecation.py:122: FutureWarning: You are accessing a training score ('std_train_accuracy'), which will not be available by default any more in 0.21. If you need training scores, please set return_train_score=True\n",
      "  warnings.warn(*warn_args, **warn_kwargs)\n",
      "/home/andras/anaconda3/lib/python3.6/site-packages/sklearn/utils/deprecation.py:122: FutureWarning: You are accessing a training score ('std_train_f1_macro'), which will not be available by default any more in 0.21. If you need training scores, please set return_train_score=True\n",
      "  warnings.warn(*warn_args, **warn_kwargs)\n",
      "/home/andras/anaconda3/lib/python3.6/site-packages/sklearn/utils/deprecation.py:122: FutureWarning: You are accessing a training score ('std_train_f1_micro'), which will not be available by default any more in 0.21. If you need training scores, please set return_train_score=True\n",
      "  warnings.warn(*warn_args, **warn_kwargs)\n",
      "/home/andras/anaconda3/lib/python3.6/site-packages/sklearn/utils/deprecation.py:122: FutureWarning: You are accessing a training score ('std_train_roc_auc'), which will not be available by default any more in 0.21. If you need training scores, please set return_train_score=True\n",
      "  warnings.warn(*warn_args, **warn_kwargs)\n"
     ]
    }
   ],
   "source": [
    "pd.DataFrame(rf_gridCV_2.cv_results_).to_csv(\"GridS_test_results.csv\")"
   ]
  },
  {
   "cell_type": "markdown",
   "metadata": {},
   "source": [
    "### Repeated cross validation\n",
    "We use RepeatedStratifiedKFold to try to safeguard against instroducting bias thanks to the data structure."
   ]
  },
  {
   "cell_type": "code",
   "execution_count": 31,
   "metadata": {},
   "outputs": [],
   "source": [
    "def rep_cv(X_train, y_train, model):\n",
    "    start = time.time()\n",
    "    print(\"Running model...\")\n",
    "    model = model\n",
    "    kfold = RepeatedStratifiedKFold(n_splits=5, n_repeats=3, random_state=seed)\n",
    "\n",
    "    rep_cv_res = cross_validate(model,\n",
    "                                X_train,\n",
    "                                y_train,\n",
    "                                scoring=['accuracy', 'roc_auc'],\n",
    "                                cv=kfold,\n",
    "                                n_jobs=-1,\n",
    "                                verbose=2,\n",
    "                                return_train_score=False)\n",
    "\n",
    "    print(\"Test accuracy:{}\".format(rep_cv_res['test_accuracy'].mean()))\n",
    "    print(\"Test ROC AUC:{}\".format(rep_cv_res['test_roc_auc'].mean()))\n",
    "    end = time.time()\n",
    "    print(\"Duration:{}\".format(end - start))\n",
    "\n",
    "    return rep_cv_res"
   ]
  },
  {
   "cell_type": "code",
   "execution_count": 32,
   "metadata": {},
   "outputs": [
    {
     "name": "stdout",
     "output_type": "stream",
     "text": [
      "Running model...\n",
      "[CV]  ................................................................\n",
      "[CV]  ................................................................\n",
      "[CV] ................................................. , total= 9.9min\n",
      "[CV]  ................................................................\n",
      "[CV] ................................................. , total= 9.9min\n",
      "[CV]  ................................................................\n",
      "[CV] ................................................. , total= 9.7min\n",
      "[CV]  ................................................................\n",
      "[CV] ................................................. , total= 9.9min\n",
      "[CV]  ................................................................\n",
      "[CV] ................................................. , total= 9.0min\n",
      "[CV]  ................................................................\n",
      "[CV] ................................................. , total= 9.0min\n",
      "[CV]  ................................................................\n",
      "[CV] ................................................. , total= 9.9min\n",
      "[CV]  ................................................................\n",
      "[CV] ................................................. , total= 9.8min\n",
      "[CV]  ................................................................\n",
      "[CV] ................................................. , total= 9.7min\n",
      "[CV]  ................................................................\n",
      "[CV] ................................................. , total= 9.8min\n",
      "[CV]  ................................................................\n",
      "[CV] ................................................. , total= 9.8min\n",
      "[CV]  ................................................................\n",
      "[CV] ................................................. , total= 9.8min\n",
      "[CV]  ................................................................\n",
      "[CV] ................................................. , total= 9.8min\n",
      "[CV]  ................................................................\n",
      "[CV] ................................................. , total= 9.9min\n",
      "[CV] ................................................. , total= 4.8min\n"
     ]
    },
    {
     "name": "stderr",
     "output_type": "stream",
     "text": [
      "[Parallel(n_jobs=-1)]: Done  15 out of  15 | elapsed: 72.7min finished\n"
     ]
    },
    {
     "name": "stdout",
     "output_type": "stream",
     "text": [
      "Test accuracy:0.7579823654024065\n",
      "Test ROC AUC:0.8293120846617436\n",
      "Duration:4364.496382236481\n"
     ]
    }
   ],
   "source": [
    "res = rep_cv(X_train, y_train, rf_gridCV_2.best_estimator_)"
   ]
  },
  {
   "cell_type": "markdown",
   "metadata": {},
   "source": [
    "We can save the results of the Repeated cross validaton into csv."
   ]
  },
  {
   "cell_type": "code",
   "execution_count": 33,
   "metadata": {},
   "outputs": [],
   "source": [
    "pd.DataFrame(res).to_csv(\"rep_cv_res_test.csv\")"
   ]
  },
  {
   "cell_type": "markdown",
   "metadata": {},
   "source": [
    "# Getting the 1 confidences"
   ]
  },
  {
   "cell_type": "code",
   "execution_count": 34,
   "metadata": {},
   "outputs": [],
   "source": [
    "def get_1confs(X_train, y_train, X_test, model):\n",
    "    \"\"\"Gets the confidences of 1 values as predicted by the model on the test dataset.\n",
    "    Takes\n",
    "        X_train: The predictor attributes of the training dataset\n",
    "        y_train: The target attributes of the training dataset\n",
    "        X_test: The predictor attributes of the test dataset\n",
    "        model: the used model\n",
    "        \n",
    "    It writes the results into a csv.\n",
    "    \"\"\"\n",
    "    print(\"X_test.shape:{}\".format(X_test.shape))\n",
    "    model = model\n",
    "    \n",
    "    model.fit(X_train, y_train)\n",
    "\n",
    "    confs = model.predict_proba(X_test)[:,1]\n",
    "    confs = pd.DataFrame([test.id, confs.reshape(-1,)]).transpose()\n",
    "    confs.rename(columns={\"Unnamed 0\": 'label'}, inplace=True)\n",
    "    confs.to_csv(\"late.csv\", index=False)"
   ]
  },
  {
   "cell_type": "code",
   "execution_count": 35,
   "metadata": {},
   "outputs": [],
   "source": [
    "#get_1confs(X_train, y_train, X_test, rf_gridCV_2.best_estimator_)"
   ]
  }
 ],
 "metadata": {
  "kernelspec": {
   "display_name": "Python 3",
   "language": "python",
   "name": "python3"
  },
  "language_info": {
   "codemirror_mode": {
    "name": "ipython",
    "version": 3
   },
   "file_extension": ".py",
   "mimetype": "text/x-python",
   "name": "python",
   "nbconvert_exporter": "python",
   "pygments_lexer": "ipython3",
   "version": "3.6.4"
  }
 },
 "nbformat": 4,
 "nbformat_minor": 2
}
